{
 "cells": [
  {
   "attachments": {},
   "cell_type": "markdown",
   "metadata": {},
   "source": [
    "# Fundamentals of Data Analytics\n",
    " **Frank Quinn**\n",
    "\n",
    "------------------- "
   ]
  },
  {
   "attachments": {},
   "cell_type": "markdown",
   "metadata": {},
   "source": [
    "# Question 1"
   ]
  },
  {
   "attachments": {},
   "cell_type": "markdown",
   "metadata": {},
   "source": [
    "> The **Collatz conjecture** is a famous unsolved problem in mathematics. The problem is to prove that if you start with any positive integer *x* and repeatedly apply the function *f(x)* below, you always get stuck in the repeating sequence **1, 4, 2, 1, 4, 2, ...**.\n",
    "\n",
    "The function *f(x)* is defined as:\n"
   ]
  },
  {
   "attachments": {},
   "cell_type": "markdown",
   "metadata": {},
   "source": [
    "f(x) =\n",
    "\n",
    "x ÷ 2 if x is even,\n",
    "\n",
    "3x + 1 otherwise."
   ]
  },
  {
   "attachments": {},
   "cell_type": "markdown",
   "metadata": {},
   "source": [
    "> For example, starting with the value 10, which is an even number, we divide it by 2 to get 5. Then 5 is an odd number, so we multiply by 3 and add 1 to get 16. Then we repeatedly divide by 2 to get 8, 4, 2, 1. Once we reach 1, we go back to 4 and get stuck in the repeating sequence 4, 2, 1, as we suspected.\n",
    "\n",
    "Your task is to verify, using Python, that the conjecture is true for the first 10,000 positive integers.\n",
    "\n",
    "\n",
    "\n",
    "\n",
    "\n",
    "\n"
   ]
  },
  {
   "cell_type": "code",
   "execution_count": 63,
   "metadata": {},
   "outputs": [],
   "source": [
    "\n",
    "def collatz(value):\n",
    "    collatz_numbers = []\n",
    "    \n",
    "    if value < 1:\n",
    "        print('Please enter a positive integer!')\n",
    "    else:\n",
    "        # Continue process until value = 1 \n",
    "        while value != 1:\n",
    "            # append number to list\n",
    "            collatz_numbers.append(value)\n",
    "            # Check if value is even, if so, divide by 2\n",
    "            if value % 2 == 0:\n",
    "                value = value // 2\n",
    "            else:\n",
    "                # If value is odd, multiply by 3 and add 1\n",
    "                value = (value * 3) + 1\n",
    "        # append 1 to end of list\n",
    "        collatz_numbers.append(1)\n",
    "        # print numbers on same line\n",
    "        print(collatz_numbers)"
   ]
  },
  {
   "cell_type": "code",
   "execution_count": 67,
   "metadata": {},
   "outputs": [
    {
     "name": "stdout",
     "output_type": "stream",
     "text": [
      "Please enter a positive integer\n"
     ]
    }
   ],
   "source": [
    "collatz(10000)"
   ]
  },
  {
   "attachments": {},
   "cell_type": "markdown",
   "metadata": {},
   "source": [
    "***\n",
    "\n",
    "# End"
   ]
  }
 ],
 "metadata": {
  "kernelspec": {
   "display_name": "base",
   "language": "python",
   "name": "python3"
  },
  "language_info": {
   "codemirror_mode": {
    "name": "ipython",
    "version": 3
   },
   "file_extension": ".py",
   "mimetype": "text/x-python",
   "name": "python",
   "nbconvert_exporter": "python",
   "pygments_lexer": "ipython3",
   "version": "3.9.13"
  },
  "orig_nbformat": 4
 },
 "nbformat": 4,
 "nbformat_minor": 2
}
