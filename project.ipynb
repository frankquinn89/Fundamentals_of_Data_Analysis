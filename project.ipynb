{
 "cells": [
  {
   "cell_type": "markdown",
   "metadata": {},
   "source": [
    "# Fisher's Iris data set\n",
    "\n",
    "Fisher's Iris dataset is a well-known dataset in the field of machine learning and statistics. It was introduced by the British statistician and biologist Ronald A. Fisher in 1936 as an example of discriminant analysis. The dataset consists of measurements from three species of iris flowers: setosa, versicolor, and virginica. Each species is represented by 50 samples, making a total of 150 data points. The dataset includes four features (variables) for each sample, which are measurements in centimeters:\n",
    "\n",
    "Sepal Length: This is the length of the iris flower's sepal (the outermost petal-like part).\n",
    "\n",
    "Sepal Width: This is the width of the iris flower's sepal.\n",
    "\n",
    "Petal Length: This is the length of the iris flower's petal (the inner, often colorful part).\n",
    "\n",
    "Petal Width: This is the width of the iris flower's petal."
   ]
  },
  {
   "attachments": {},
   "cell_type": "markdown",
   "metadata": {},
   "source": [
    "## Classification of variables\n",
    "\n",
    "*Sepal Length*:  \n",
    "* Variable Type: Continuous\n",
    "* Scale of Measurement: Ratio\n",
    "* Python Data Type: Float\n",
    "\n",
    "*Sepal Width*:   \n",
    "* Variable Type: Continuous\n",
    "* Scale of Measurement: Ratio\n",
    "* Python Data Type: Float\n",
    "\n",
    "*Petal Length*:   \n",
    "* Variable Type: Continuous\n",
    "* Scale of Measurement: Ratio\n",
    "* Python Data Type: Float\n",
    "\n",
    "*Petal Width*:   \n",
    "* Variable Type: Continuous\n",
    "* Scale of Measurement: Ratio\n",
    "* Python Data Type: Float\n",
    "\n",
    "These variables are continuous and measured on a ratio scale, meaning they have a meaningful zero point (e.g., petal width of 0 cm is a valid and meaningful value), and we can perform arithmetic operations on them.\n",
    "\n",
    "Additionally, there is a categorical variable, which is the species of the iris flower:\n",
    "\n",
    "Species:\n",
    "* Variable Type: Categorical\n",
    "* Scale of Measurement: Nominal\n",
    "* Python Data Type: String or Categorical Variable\n",
    "The \"species\" variable represents the class label or target variable in classification tasks, and it is not on a continuous scale like the other four variables. Instead, it represents categories or groups, and you can use Python's string or categorical data types to represent it.\n"
   ]
  },
  {
   "cell_type": "markdown",
   "metadata": {},
   "source": [
    "## Summary Statistcs \n",
    "\n",
    "The variables include sepal length, sepal width, petal length, and petal width. They are all measured in centimeters. The below statistics can be used to explain to data:\n",
    "\n",
    "* Mean: The mean sepal/petal length can be calculated to provide the average length of the sepals/petals in the dataset. It gives a sense of the central tendency of this variable.\n",
    "* Median: The median sepal/petal length is the middle value when the data is sorted, which provides insight into the data's central position and helps detect outliers.\n",
    "* Standard Deviation: The standard deviation measures the dispersion or spread of sepal/petal lengths, indicating how much individual data points deviate from the mean.\n",
    "* Minimum and Maximum: Providing the minimum and maximum values helps identify the range of sepal/petal lengths in the dataset.\n",
    "* Percentiles (e.g., 25th and 75th Percentiles): These can help describe the spread and distribution of sepalpetal lengths."
   ]
  },
  {
   "cell_type": "code",
   "execution_count": 3,
   "metadata": {},
   "outputs": [
    {
     "name": "stdout",
     "output_type": "stream",
     "text": [
      "Statistics for Sepal Length (cm):\n",
      "Mean: 5.843333333333335\n",
      "Median: 5.8\n",
      "Mode: 5.0\n",
      "Standard Deviation: 0.8280661279778629\n",
      "Variance: 0.6856935123042505\n",
      "Minimum: 4.3\n",
      "Maximum: 7.9\n",
      "Range: 3.6000000000000005\n",
      "Q1 (25th percentile): 5.1\n",
      "Q2 (50th percentile, Median): 5.8\n",
      "Q3 (75th percentile): 6.4\n",
      "IQR (Interquartile Range): 1.3000000000000007\n",
      "Statistics for Sepal Width (cm):\n",
      "Mean: 3.0540000000000007\n",
      "Median: 3.0\n",
      "Mode: 3.0\n",
      "Standard Deviation: 0.4335943113621737\n",
      "Variance: 0.18800402684563763\n",
      "Minimum: 2.0\n",
      "Maximum: 4.4\n",
      "Range: 2.4000000000000004\n",
      "Q1 (25th percentile): 2.8\n",
      "Q2 (50th percentile, Median): 3.0\n",
      "Q3 (75th percentile): 3.3\n",
      "IQR (Interquartile Range): 0.5\n",
      "Statistics for Petal Length (cm):\n",
      "Mean: 3.7586666666666693\n",
      "Median: 4.35\n",
      "Mode: 1.5\n",
      "Standard Deviation: 1.7644204199522617\n",
      "Variance: 3.1131794183445156\n",
      "Minimum: 1.0\n",
      "Maximum: 6.9\n",
      "Range: 5.9\n",
      "Q1 (25th percentile): 1.6\n",
      "Q2 (50th percentile, Median): 4.35\n",
      "Q3 (75th percentile): 5.1\n",
      "IQR (Interquartile Range): 3.4999999999999996\n",
      "Statistics for Petal Width (cm):\n",
      "Mean: 1.1986666666666672\n",
      "Median: 1.3\n",
      "Mode: 0.2\n",
      "Standard Deviation: 0.7631607417008414\n",
      "Variance: 0.5824143176733784\n",
      "Minimum: 0.1\n",
      "Maximum: 2.5\n",
      "Range: 2.4\n",
      "Q1 (25th percentile): 0.3\n",
      "Q2 (50th percentile, Median): 1.3\n",
      "Q3 (75th percentile): 1.8\n",
      "IQR (Interquartile Range): 1.5\n"
     ]
    }
   ],
   "source": [
    "import numpy as np\n",
    "import pandas as pd\n",
    "# Data file from : https://archive.ics.uci.edu/ml/datasets/iris\n",
    "# Using pandas to load data as a dataframe from iris.data file and add column headings\n",
    "data = pd.read_csv(\"data/iris.csv\", sep=\",\", header = None, names= [\"Sepal Length (cm)\", \"Sepal Width (cm)\", \"Petal Length (cm)\", \"Petal Width (cm)\", \"Species\"])\n",
    "\n",
    "# List of columns to be \n",
    "columns = [\"Sepal Length (cm)\", \"Sepal Width (cm)\", \"Petal Length (cm)\", \"Petal Width (cm)\"]\n",
    "\n",
    "for column in columns:\n",
    "    # Calculate statistics for the specific columns\n",
    "    mean = data[column].mean()\n",
    "    median = data[column].median()\n",
    "    mode = data[column].mode().values[0]\n",
    "    std_dev = data[column].std()\n",
    "    variance = data[column].var()\n",
    "    minimum = data[column].min()\n",
    "    maximum = data[column].max()\n",
    "    data_range = maximum - minimum\n",
    "    quartiles = np.percentile(data[column], [25, 50, 75])\n",
    "    q1 = quartiles[0]\n",
    "    q2 = quartiles[1]\n",
    "    q3 = quartiles[2]\n",
    "    iqr = q3 - q1\n",
    "\n",
    "    print(f\"Statistics for {column}:\")\n",
    "    print(f\"Mean: {mean}\")\n",
    "    print(f\"Median: {median}\")\n",
    "    print(f\"Mode: {mode}\")\n",
    "    print(f\"Standard Deviation: {std_dev}\")\n",
    "    print(f\"Variance: {variance}\")\n",
    "    print(f\"Minimum: {minimum}\")\n",
    "    print(f\"Maximum: {maximum}\")\n",
    "    print(f\"Range: {data_range}\")\n",
    "    print(f\"Q1 (25th percentile): {q1}\")\n",
    "    print(f\"Q2 (50th percentile, Median): {q2}\")\n",
    "    print(f\"Q3 (75th percentile): {q3}\")\n",
    "    print(f\"IQR (Interquartile Range): {iqr}\")\n"
   ]
  },
  {
   "cell_type": "markdown",
   "metadata": {},
   "source": [
    "# Plots"
   ]
  },
  {
   "cell_type": "code",
   "execution_count": 5,
   "metadata": {},
   "outputs": [
    {
     "data": {
      "image/png": "[encoded data removed]",
      "text/plain": [
       "<Figure size 640x480 with 1 Axes>"
      ]
     },
     "metadata": {},
     "output_type": "display_data"
    }
   ],
   "source": [
    "import matplotlib.pyplot as plt\n",
    "import seaborn as sb\n",
    "\n",
    "# define species for plotting\n",
    "setosa = data[data.Species == \"Iris-setosa\"]\n",
    "versicolor = data[data.Species == \"Iris-versicolor\"]\n",
    "virginica = data[data.Species == \"Iris-virginica\"]\n",
    "\n",
    "#Plot Histogram for Sepal Length \n",
    "\n",
    "#plot each Species separately , label them and give each different colour for readability\n",
    "sb.histplot(setosa[\"Sepal Length (cm)\"], label = \"Iris-setosa\", color = \"red\", )\n",
    "sb.histplot(versicolor[\"Sepal Length (cm)\"], label = \"Iris-versicolor\", color = \"blue\")\n",
    "sb.histplot(virginica[\"Sepal Length (cm)\"], label = \"Iris-virginica\", color = \"green\")\n",
    "plt.title(\"Sepal Length\")\n",
    "plt.xlabel(\"Length\")\n",
    "plt.ylabel(\"Count\")\n",
    "plt.legend()\n",
    "#Save image to images folder\n",
    "#Display image to user\n",
    "plt.show()"
   ]
  }
 ],
 "metadata": {
  "kernelspec": {
   "display_name": "base",
   "language": "python",
   "name": "python3"
  },
  "language_info": {
   "codemirror_mode": {
    "name": "ipython",
    "version": 3
   },
   "file_extension": ".py",
   "mimetype": "text/x-python",
   "name": "python",
   "nbconvert_exporter": "python",
   "pygments_lexer": "ipython3",
   "version": "3.9.13"
  },
  "orig_nbformat": 4
 },
 "nbformat": 4,
 "nbformat_minor": 2
}
