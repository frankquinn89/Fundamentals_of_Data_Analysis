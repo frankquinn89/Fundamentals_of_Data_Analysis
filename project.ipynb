{
 "cells": [
  {
   "attachments": {},
   "cell_type": "markdown",
   "metadata": {},
   "source": [
    "Sepal Length:\n",
    "Scale of Measurement: Sepal length is a variable that represents the length of the iris flower's sepal in centimetres. It has interval and ratio properties, allowing for arithmetic operations.\n",
    "In Python: Represent it as a regular numerical column in a DataFrame.\n",
    "\n",
    "Sepal Width:\n",
    "Scale of Measurement: Sepal width is another continuous variable that represents the width of the iris flower's sepal in centimeters. Like sepal length, it also has interval and ratio properties.\n",
    "In Python: Represent it as a regular numerical column in a DataFrame.\n",
    "\n",
    "Petal Length:\n",
    "Variable Type: Continuous\n",
    "Scale of Measurement: Petal length is a continuous variable that represents the length of the iris flower's petal in centimeters. It has interval and ratio properties.\n",
    "In Python: Represent it as a regular numerical column in a DataFrame.\n",
    "\n",
    "Petal Width:\n",
    "Variable Type: Continuous\n",
    "Scale of Measurement: Petal width is another continuous variable that represents the width of the iris flower's petal in centimeters. It has interval and ratio properties.\n",
    "In Python: Represent it as a regular numerical column in a DataFrame.\n",
    "\n",
    "Species:\n",
    "Variable Type: Nominal\n",
    "Scale of Measurement: Species is a categorical variable that represents the type of iris species (e.g., setosa, versicolor, virginica). It is a nominal categorical variable with no inherent order or numerical interpretation.\n",
    "In Python: Represent it as a categorical variable using Python's pandas library."
   ]
  },
  {
   "cell_type": "code",
   "execution_count": 10,
   "metadata": {},
   "outputs": [],
   "source": [
    "import pandas as pd\n",
    "# Data file from : https://archive.ics.uci.edu/ml/datasets/iris\n",
    "# Using pandas to load data as a dataframe from iris.data file and add column headings\n",
    "data = pd.read_csv(\"data/iris.csv\", sep=\",\", header = None, names= [\"Sepal Length (cm)\", \"Sepal Width (cm)\", \"Petal Length (cm)\", \"Petal Width (cm)\", \"Species\"])\n",
    "\n"
   ]
  },
  {
   "cell_type": "code",
   "execution_count": 11,
   "metadata": {},
   "outputs": [
    {
     "name": "stdout",
     "output_type": "stream",
     "text": [
      "    Sepal Length (cm)  Sepal Width (cm)  Petal Length (cm)  Petal Width (cm)  \\\n",
      "0                 5.1               3.5                1.4               0.2   \n",
      "1                 4.9               3.0                1.4               0.2   \n",
      "2                 4.7               3.2                1.3               0.2   \n",
      "3                 4.6               3.1                1.5               0.2   \n",
      "4                 5.0               3.6                1.4               0.2   \n",
      "5                 5.4               3.9                1.7               0.4   \n",
      "6                 4.6               3.4                1.4               0.3   \n",
      "7                 5.0               3.4                1.5               0.2   \n",
      "8                 4.4               2.9                1.4               0.2   \n",
      "9                 4.9               3.1                1.5               0.1   \n",
      "10                5.4               3.7                1.5               0.2   \n",
      "11                4.8               3.4                1.6               0.2   \n",
      "12                4.8               3.0                1.4               0.1   \n",
      "13                4.3               3.0                1.1               0.1   \n",
      "14                5.8               4.0                1.2               0.2   \n",
      "15                5.7               4.4                1.5               0.4   \n",
      "16                5.4               3.9                1.3               0.4   \n",
      "17                5.1               3.5                1.4               0.3   \n",
      "18                5.7               3.8                1.7               0.3   \n",
      "19                5.1               3.8                1.5               0.3   \n",
      "\n",
      "        Species  \n",
      "0   Iris-setosa  \n",
      "1   Iris-setosa  \n",
      "2   Iris-setosa  \n",
      "3   Iris-setosa  \n",
      "4   Iris-setosa  \n",
      "5   Iris-setosa  \n",
      "6   Iris-setosa  \n",
      "7   Iris-setosa  \n",
      "8   Iris-setosa  \n",
      "9   Iris-setosa  \n",
      "10  Iris-setosa  \n",
      "11  Iris-setosa  \n",
      "12  Iris-setosa  \n",
      "13  Iris-setosa  \n",
      "14  Iris-setosa  \n",
      "15  Iris-setosa  \n",
      "16  Iris-setosa  \n",
      "17  Iris-setosa  \n",
      "18  Iris-setosa  \n",
      "19  Iris-setosa  \n"
     ]
    }
   ],
   "source": [
    "print(data.head(20))"
   ]
  }
 ],
 "metadata": {
  "kernelspec": {
   "display_name": "base",
   "language": "python",
   "name": "python3"
  },
  "language_info": {
   "codemirror_mode": {
    "name": "ipython",
    "version": 3
   },
   "file_extension": ".py",
   "mimetype": "text/x-python",
   "name": "python",
   "nbconvert_exporter": "python",
   "pygments_lexer": "ipython3",
   "version": "3.9.13"
  },
  "orig_nbformat": 4
 },
 "nbformat": 4,
 "nbformat_minor": 2
}
