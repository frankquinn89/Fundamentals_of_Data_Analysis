{
 "cells": [
  {
   "attachments": {},
   "cell_type": "markdown",
   "metadata": {},
   "source": [
    "# Fundamentals of Data Analytics\n",
    " **Frank Quinn**\n",
    "\n",
    "------------------- "
   ]
  },
  {
   "attachments": {},
   "cell_type": "markdown",
   "metadata": {},
   "source": [
    "# Task 1"
   ]
  },
  {
   "attachments": {},
   "cell_type": "markdown",
   "metadata": {},
   "source": [
    "> The **Collatz conjecture** is a famous unsolved problem in mathematics. The problem is to prove that if you start with any positive integer *x* and repeatedly apply the function *f(x)* below, you always get stuck in the repeating sequence **1, 4, 2, 1, 4, 2, ...**.\n",
    "\n",
    "The function *f(x)* is defined as:\n"
   ]
  },
  {
   "attachments": {},
   "cell_type": "markdown",
   "metadata": {},
   "source": [
    "$ f(x) = $\n",
    "\n",
    "$ x ÷ 2 $ if even\n",
    "\n",
    "$ 3x + 1 $ if odd"
   ]
  },
  {
   "attachments": {},
   "cell_type": "markdown",
   "metadata": {},
   "source": [
    "> For example, starting with the value 10, which is an even number, we divide it by 2 to get 5. Then 5 is an odd number, so we multiply by 3 and add 1 to get 16. Then we repeatedly divide by 2 to get 8, 4, 2, 1. Once we reach 1, we go back to 4 and get stuck in the repeating sequence 4, 2, 1, as we suspected.\n",
    "\n",
    "Your task is to verify, using Python, that the conjecture is true for the first 10,000 positive integers.\n",
    "\n",
    "\n",
    "\n",
    "\n",
    "\n",
    "\n"
   ]
  },
  {
   "cell_type": "code",
   "execution_count": 144,
   "metadata": {},
   "outputs": [],
   "source": [
    "\n",
    "def collatz(value):\n",
    "    collatz_numbers = []\n",
    "    \n",
    "    if value < 1:\n",
    "        print('Please enter a positive integer!')\n",
    "    else:\n",
    "        # Continue process until value = 1 \n",
    "        while value != 1:\n",
    "            # append number to list\n",
    "            collatz_numbers.append(value)\n",
    "            # Check if value is even, if so, divide by 2\n",
    "            if value % 2 == 0:\n",
    "                value = value // 2\n",
    "            else:\n",
    "                # If value is odd, multiply by 3 and add 1\n",
    "                value = (value * 3) + 1\n",
    "        # append 1 to end of list\n",
    "        collatz_numbers.append(1)\n",
    "        # print numbers on same line\n",
    "        print(collatz_numbers)"
   ]
  },
  {
   "cell_type": "code",
   "execution_count": 145,
   "metadata": {},
   "outputs": [
    {
     "name": "stdout",
     "output_type": "stream",
     "text": [
      "[10000, 5000, 2500, 1250, 625, 1876, 938, 469, 1408, 704, 352, 176, 88, 44, 22, 11, 34, 17, 52, 26, 13, 40, 20, 10, 5, 16, 8, 4, 2, 1]\n"
     ]
    }
   ],
   "source": [
    "collatz(10000)"
   ]
  },
  {
   "attachments": {},
   "cell_type": "markdown",
   "metadata": {},
   "source": [
    "***"
   ]
  },
  {
   "attachments": {},
   "cell_type": "markdown",
   "metadata": {},
   "source": [
    "# Task 2"
   ]
  },
  {
   "attachments": {},
   "cell_type": "markdown",
   "metadata": {},
   "source": [
    "***"
   ]
  },
  {
   "attachments": {},
   "cell_type": "markdown",
   "metadata": {},
   "source": [
    "> Give an overview of the famous penguins data set, explaining \n",
    "the types of variables it contains. Suggest the types of variables\n",
    "that should be used to model them in Python, explaining your\n",
    "rationale.\n",
    "\n",
    " > Data repository\n",
    "for seaborn examples. Aug. 30, 2023. url:\n",
    "https : / / github . com / mwaskom /\n",
    "seaborn - data / blob / master /\n",
    "penguins.csv (visited on 08/30/2023)."
   ]
  },
  {
   "attachments": {},
   "cell_type": "markdown",
   "metadata": {},
   "source": [
    "Palmer penguins dataset comprises of various measurements of three different penguin species, namely Adelie, Gentoo, and Chinstra.\n",
    "\n",
    "Species (Categorical Variable): This variable represents the different species of penguins in the dataset. It's a categorical variable with three unique categories: Adelie, Chinstrap, and Gentoo. In Python, you would typically use a data type like strings or categorical data types to model this variable.\n",
    "\n",
    "Island (Categorical Variable): The dataset includes the island where each penguin was found. It's another categorical variable with three unique categories: Biscoe, Dream, and Torgersen. Similar to the \"Species\" variable, you would use strings or categorical data types to represent this variable in Python.\n",
    "\n",
    "Bill Length (Numerical Variable): This variable represents the length of the penguin's bill, which is a continuous numerical variable. In Python, you would use a numeric data type (e.g., float) to model this variable.\n",
    "\n",
    "Bill Depth (Numerical Variable): Similar to \"Bill Length,\" this variable represents the depth of the penguin's bill, making it another continuous numerical variable to be modeled using numeric data types.\n",
    "\n",
    "Flipper Length (Numerical Variable): It indicates the length of the penguin's flipper, which is another continuous numerical variable. You would represent this variable using numeric data types in Python.\n",
    "\n",
    "Body Mass (Numerical Variable): This variable represents the body mass (weight) of the penguin. It's a continuous numerical variable, and like other numerical variables, you would model it using numeric data types in Python.\n",
    "\n",
    "Sex (Categorical Variable): The dataset includes the sex of each penguin, categorized as Male or Female. It's a categorical variable, and you would use strings or categorical data types in Python to represent it.\n"
   ]
  },
  {
   "attachments": {},
   "cell_type": "markdown",
   "metadata": {},
   "source": [
    "***"
   ]
  },
  {
   "attachments": {},
   "cell_type": "markdown",
   "metadata": {},
   "source": [
    "# Task 3"
   ]
  },
  {
   "attachments": {},
   "cell_type": "markdown",
   "metadata": {},
   "source": [
    "> For each of the variables in the penguins data set, suggest what probability distribution from the numpy random distributions list is the most appropriate to model the variable."
   ]
  },
  {
   "attachments": {},
   "cell_type": "markdown",
   "metadata": {},
   "source": [
    "Species:\n",
    "Recommended numpy random distribution: random.choices()\n",
    "\n",
    "Island:\n",
    "Recommended numpy random distribution: random.choices()\n",
    "\n",
    "Bill Length:\n",
    "Recommended numpy random distribution: random.uniform()\n",
    "\n",
    "Bill Depth:\n",
    "Recommended numpy random distribution: random.uniform()\n",
    "\n",
    "Flipper Length:\n",
    "Recommended numpy random distribution: random.integers()\n",
    "\n",
    "Body Mass:\n",
    "Recommended numpy random distribution: random.integers()\n",
    "\n",
    "Sex:\n",
    "Recommended numpy random distribution: random.choices()"
   ]
  },
  {
   "attachments": {},
   "cell_type": "markdown",
   "metadata": {},
   "source": [
    "# Task 4\n",
    "\n",
    ">  Suppose you are flipping two coins, each with a probability p of\n",
    "giving heads. Plot the entropy of the total number of heads versus\n",
    "p."
   ]
  },
  {
   "cell_type": "code",
   "execution_count": 153,
   "metadata": {},
   "outputs": [
    {
     "data": {
      "image/png": "[encoded data removed]",
      "text/plain": [
       "<Figure size 800x600 with 1 Axes>"
      ]
     },
     "metadata": {},
     "output_type": "display_data"
    }
   ],
   "source": [
    "import numpy as np\n",
    "import matplotlib.pyplot as plt\n",
    "\n",
    "# Define a range of probabilities (p values)\n",
    "p_values = np.linspace(0, 1, 100)  # Values from 0 to 1 with 101 points\n",
    "\n",
    "# Initialize lists to store entropies\n",
    "entropy_values = []\n",
    "\n",
    "# Function to calculate entropy\n",
    "def entropy(p):\n",
    "    if p == 0 or p == 1:\n",
    "        return 0  # Entropy is 0 for deterministic outcomes (0 or 2 heads)\n",
    "    else:\n",
    "        q = 1 - p\n",
    "        return -(p * np.log2(p) + q * np.log2(q))\n",
    "\n",
    "# Calculate entropy for each p value\n",
    "for p in p_values:\n",
    "    entropy_values.append(entropy(p))\n",
    "\n",
    "# Plot the results\n",
    "plt.figure(figsize=(8, 6))\n",
    "plt.plot(p_values, entropy_values, label='Entropy of Total Heads')\n",
    "plt.xlabel('Probability (p) of Getting Heads for Each Coin')\n",
    "plt.ylabel('Entropy')\n",
    "plt.title('Entropy of Total Heads vs. Probability (p) ')\n",
    "plt.grid(True)\n",
    "plt.legend()\n",
    "plt.show()"
   ]
  },
  {
   "attachments": {},
   "cell_type": "markdown",
   "metadata": {},
   "source": [
    "***\n",
    "\n",
    "# End"
   ]
  }
 ],
 "metadata": {
  "kernelspec": {
   "display_name": "base",
   "language": "python",
   "name": "python3"
  },
  "language_info": {
   "codemirror_mode": {
    "name": "ipython",
    "version": 3
   },
   "file_extension": ".py",
   "mimetype": "text/x-python",
   "name": "python",
   "nbconvert_exporter": "python",
   "pygments_lexer": "ipython3",
   "version": "3.9.13"
  },
  "orig_nbformat": 4
 },
 "nbformat": 4,
 "nbformat_minor": 2
}
