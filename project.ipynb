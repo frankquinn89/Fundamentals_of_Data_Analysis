{
 "cells": [
  {
   "cell_type": "markdown",
   "metadata": {},
   "source": [
    "# Fisher's Iris data set\n",
    "\n",
    "Fisher's Iris dataset is a well-known dataset in the field of machine learning and statistics. It was introduced by the British statistician and biologist Ronald A. Fisher in 1936 as an example of discriminant analysis. The dataset consists of measurements from three species of iris flowers: setosa, versicolor, and virginica. Each species is represented by 50 samples, making a total of 150 data points. The dataset includes four features (variables) for each sample, which are measurements in centimeters:\n",
    "\n",
    "Sepal Length: This is the length of the iris flower's sepal (the outermost petal-like part).\n",
    "\n",
    "Sepal Width: This is the width of the iris flower's sepal.\n",
    "\n",
    "Petal Length: This is the length of the iris flower's petal (the inner, often colorful part).\n",
    "\n",
    "Petal Width: This is the width of the iris flower's petal."
   ]
  },
  {
   "attachments": {},
   "cell_type": "markdown",
   "metadata": {},
   "source": [
    "## Classifacation of variables\n",
    "\n",
    "*Sepal Length*:  \n",
    "* Variable Type: Continuous\n",
    "* Scale of Measurement: Ratio\n",
    "* Python Data Type: Float\n",
    "\n",
    "*Sepal Width*:   \n",
    "* Variable Type: Continuous\n",
    "* Scale of Measurement: Ratio\n",
    "* Python Data Type: Float\n",
    "\n",
    "*Petal Length*:   \n",
    "* Variable Type: Continuous\n",
    "* Scale of Measurement: Ratio\n",
    "* Python Data Type: Float\n",
    "\n",
    "*Petal Width*:   \n",
    "* Variable Type: Continuous\n",
    "* Scale of Measurement: Ratio\n",
    "* Python Data Type: Float\n",
    "\n",
    "These variables are continuous and measured on a ratio scale, meaning they have a meaningful zero point (e.g., petal width of 0 cm is a valid and meaningful value), and we can perform arithmetic operations on them.\n",
    "\n",
    "Additionally, there is a categorical variable, which is the species of the iris flower:\n",
    "\n",
    "Species:\n",
    "* Variable Type: Categorical\n",
    "* Scale of Measurement: Nominal\n",
    "* Python Data Type: String or Categorical Variable\n",
    "The \"species\" variable represents the class label or target variable in classification tasks, and it is not on a continuous scale like the other four variables. Instead, it represents categories or groups, and you can use Python's string or categorical data types to represent it.\n"
   ]
  },
  {
   "cell_type": "code",
   "execution_count": 21,
   "metadata": {},
   "outputs": [],
   "source": [
    "import pandas as pd\n",
    "# Data file from : https://archive.ics.uci.edu/ml/datasets/iris\n",
    "# Using pandas to load data as a dataframe from iris.data file and add column headings\n",
    "data = pd.read_csv(\"data/iris.csv\", sep=\",\", header = None, names= [\"Sepal Length (cm)\", \"Sepal Width (cm)\", \"Petal Length (cm)\", \"Petal Width (cm)\", \"Species\"])\n",
    "\n"
   ]
  },
  {
   "cell_type": "code",
   "execution_count": 22,
   "metadata": {},
   "outputs": [
    {
     "name": "stdout",
     "output_type": "stream",
     "text": [
      "    Sepal Length (cm)  Sepal Width (cm)  Petal Length (cm)  Petal Width (cm)  \\\n",
      "0                 5.1               3.5                1.4               0.2   \n",
      "1                 4.9               3.0                1.4               0.2   \n",
      "2                 4.7               3.2                1.3               0.2   \n",
      "3                 4.6               3.1                1.5               0.2   \n",
      "4                 5.0               3.6                1.4               0.2   \n",
      "5                 5.4               3.9                1.7               0.4   \n",
      "6                 4.6               3.4                1.4               0.3   \n",
      "7                 5.0               3.4                1.5               0.2   \n",
      "8                 4.4               2.9                1.4               0.2   \n",
      "9                 4.9               3.1                1.5               0.1   \n",
      "10                5.4               3.7                1.5               0.2   \n",
      "11                4.8               3.4                1.6               0.2   \n",
      "12                4.8               3.0                1.4               0.1   \n",
      "13                4.3               3.0                1.1               0.1   \n",
      "14                5.8               4.0                1.2               0.2   \n",
      "15                5.7               4.4                1.5               0.4   \n",
      "16                5.4               3.9                1.3               0.4   \n",
      "17                5.1               3.5                1.4               0.3   \n",
      "18                5.7               3.8                1.7               0.3   \n",
      "19                5.1               3.8                1.5               0.3   \n",
      "\n",
      "        Species  \n",
      "0   Iris-setosa  \n",
      "1   Iris-setosa  \n",
      "2   Iris-setosa  \n",
      "3   Iris-setosa  \n",
      "4   Iris-setosa  \n",
      "5   Iris-setosa  \n",
      "6   Iris-setosa  \n",
      "7   Iris-setosa  \n",
      "8   Iris-setosa  \n",
      "9   Iris-setosa  \n",
      "10  Iris-setosa  \n",
      "11  Iris-setosa  \n",
      "12  Iris-setosa  \n",
      "13  Iris-setosa  \n",
      "14  Iris-setosa  \n",
      "15  Iris-setosa  \n",
      "16  Iris-setosa  \n",
      "17  Iris-setosa  \n",
      "18  Iris-setosa  \n",
      "19  Iris-setosa  \n"
     ]
    }
   ],
   "source": [
    "print(data.head(20))"
   ]
  }
 ],
 "metadata": {
  "kernelspec": {
   "display_name": "base",
   "language": "python",
   "name": "python3"
  },
  "language_info": {
   "codemirror_mode": {
    "name": "ipython",
    "version": 3
   },
   "file_extension": ".py",
   "mimetype": "text/x-python",
   "name": "python",
   "nbconvert_exporter": "python",
   "pygments_lexer": "ipython3",
   "version": "3.9.13"
  },
  "orig_nbformat": 4
 },
 "nbformat": 4,
 "nbformat_minor": 2
}
