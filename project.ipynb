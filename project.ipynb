{
 "cells": [
  {
   "attachments": {},
   "cell_type": "markdown",
   "metadata": {},
   "source": [
    "Sepal Length:\n",
    "Scale of Measurement: Sepal length is a variable that represents the length of the iris flower's sepal in centimetres. It has interval and ratio properties, allowing for arithmetic operations.\n",
    "In Python: Represent it as a regular numerical column in a DataFrame.\n",
    "\n",
    "Sepal Width:\n",
    "Scale of Measurement: Sepal width is another continuous variable that represents the width of the iris flower's sepal in centimeters. Like sepal length, it also has interval and ratio properties.\n",
    "In Python: Represent it as a regular numerical column in a DataFrame.\n",
    "\n",
    "Petal Length:\n",
    "Variable Type: Continuous\n",
    "Scale of Measurement: Petal length is a continuous variable that represents the length of the iris flower's petal in centimeters. It has interval and ratio properties.\n",
    "In Python: Represent it as a regular numerical column in a DataFrame.\n",
    "\n",
    "Petal Width:\n",
    "Variable Type: Continuous\n",
    "Scale of Measurement: Petal width is another continuous variable that represents the width of the iris flower's petal in centimeters. It has interval and ratio properties.\n",
    "In Python: Represent it as a regular numerical column in a DataFrame.\n",
    "\n",
    "Species:\n",
    "Variable Type: Nominal\n",
    "Scale of Measurement: Species is a categorical variable that represents the type of iris species (e.g., setosa, versicolor, virginica). It is a nominal categorical variable with no inherent order or numerical interpretation.\n",
    "In Python: Represent it as a categorical variable using Python's pandas library."
   ]
  },
  {
   "cell_type": "code",
   "execution_count": 7,
   "metadata": {},
   "outputs": [],
   "source": [
    "import pandas as pd\n",
    "data = pd.read_csv(\"data/iris.csv\", sep=\",\", header = 0)\n"
   ]
  },
  {
   "cell_type": "code",
   "execution_count": 8,
   "metadata": {},
   "outputs": [
    {
     "name": "stdout",
     "output_type": "stream",
     "text": [
      "    sepal_length  sepal_width  petal_length  petal_width   class\n",
      "0            5.1          3.5           1.4          0.2  setosa\n",
      "1            4.9          3.0           1.4          0.2  setosa\n",
      "2            4.7          3.2           1.3          0.2  setosa\n",
      "3            4.6          3.1           1.5          0.2  setosa\n",
      "4            5.0          3.6           1.4          0.2  setosa\n",
      "5            5.4          3.9           1.7          0.4  setosa\n",
      "6            4.6          3.4           1.4          0.3  setosa\n",
      "7            5.0          3.4           1.5          0.2  setosa\n",
      "8            4.4          2.9           1.4          0.2  setosa\n",
      "9            4.9          3.1           1.5          0.1  setosa\n",
      "10           5.4          3.7           1.5          0.2  setosa\n",
      "11           4.8          3.4           1.6          0.2  setosa\n",
      "12           4.8          3.0           1.4          0.1  setosa\n",
      "13           4.3          3.0           1.1          0.1  setosa\n",
      "14           5.8          4.0           1.2          0.2  setosa\n",
      "15           5.7          4.4           1.5          0.4  setosa\n",
      "16           5.4          3.9           1.3          0.4  setosa\n",
      "17           5.1          3.5           1.4          0.3  setosa\n",
      "18           5.7          3.8           1.7          0.3  setosa\n",
      "19           5.1          3.8           1.5          0.3  setosa\n"
     ]
    }
   ],
   "source": [
    "print(data.head(20))"
   ]
  }
 ],
 "metadata": {
  "kernelspec": {
   "display_name": "base",
   "language": "python",
   "name": "python3"
  },
  "language_info": {
   "codemirror_mode": {
    "name": "ipython",
    "version": 3
   },
   "file_extension": ".py",
   "mimetype": "text/x-python",
   "name": "python",
   "nbconvert_exporter": "python",
   "pygments_lexer": "ipython3",
   "version": "3.9.13"
  },
  "orig_nbformat": 4
 },
 "nbformat": 4,
 "nbformat_minor": 2
}
